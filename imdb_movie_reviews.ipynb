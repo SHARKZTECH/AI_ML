{
  "nbformat": 4,
  "nbformat_minor": 0,
  "metadata": {
    "colab": {
      "provenance": [],
      "authorship_tag": "ABX9TyO1/Fv2OW3h1nR50RS5BzHp",
      "include_colab_link": true
    },
    "kernelspec": {
      "name": "python3",
      "display_name": "Python 3"
    },
    "language_info": {
      "name": "python"
    }
  },
  "cells": [
    {
      "cell_type": "markdown",
      "metadata": {
        "id": "view-in-github",
        "colab_type": "text"
      },
      "source": [
        "<a href=\"https://colab.research.google.com/github/SHARKZTECH/AI_ML/blob/main/imdb_movie_reviews.ipynb\" target=\"_parent\"><img src=\"https://colab.research.google.com/assets/colab-badge.svg\" alt=\"Open In Colab\"/></a>"
      ]
    },
    {
      "cell_type": "code",
      "source": [
        "!pip install wget"
      ],
      "metadata": {
        "id": "Z4NGK5ozwrCX"
      },
      "execution_count": null,
      "outputs": []
    },
    {
      "cell_type": "code",
      "source": [
        "!pip install pandas numpy scikit-learn nltk xgboost"
      ],
      "metadata": {
        "id": "9S6ROswFw1Mb"
      },
      "execution_count": null,
      "outputs": []
    },
    {
      "cell_type": "markdown",
      "source": [
        "# Data Preparation\n",
        "IMDb movie review data is loaded from \"IMDB_dataset.xlsx,\" shuffle the dataset for randomness, and check the initial data structure and sentiment label distribution. The dataset is now ready for subsequent data preprocessing steps like text cleaning, tokenization, and vectorization for sentiment analysis.\n",
        "\n",
        "\n",
        "\n",
        "\n"
      ],
      "metadata": {
        "id": "Nuas5QrrygxG"
      }
    },
    {
      "cell_type": "code",
      "source": [
        "import pandas as pd\n",
        "\n",
        "# Load the dataset from \"IMDB_dataset.xlsx\"\n",
        "data_file = \"IMDB_dataset.xlsx\"\n",
        "df = pd.read_excel(data_file)\n",
        "\n",
        "# Shuffle the dataset\n",
        "df = df.sample(frac=1, random_state=42).reset_index(drop=True)\n",
        "\n",
        "# Check the data\n",
        "print(df.head())\n",
        "print(df['sentiment'].value_counts())\n"
      ],
      "metadata": {
        "colab": {
          "base_uri": "https://localhost:8080/"
        },
        "id": "EOqScilTH4Qo",
        "outputId": "b1f176c7-8561-428b-eb39-138d9492a359"
      },
      "execution_count": null,
      "outputs": [
        {
          "output_type": "stream",
          "name": "stdout",
          "text": [
            "                                              review sentiment\n",
            "0  This movie just stunk. I know that some people...  negative\n",
            "1  The Man in the White Suit is one of those deli...  positive\n",
            "2  Why is impossible to write in french ? Very Ki...  negative\n",
            "3  I was excited to discover this late sixties co...  negative\n",
            "4  First of all, I must say that I love this film...  positive\n",
            "negative    12500\n",
            "positive    12500\n",
            "Name: sentiment, dtype: int64\n"
          ]
        }
      ]
    },
    {
      "cell_type": "markdown",
      "source": [
        "#  Text Preprocessing\n",
        "The code performs text preprocessing on the IMDb movie review dataset. It removes punctuation, tokenizes the text, removes stopwords, and lemmatizes the tokens. The sentiment labels are converted to numerical values (1 for positive, 0 for negative). The processed DataFrame is displayed, ready for vectorization and model training in sentiment analysis"
      ],
      "metadata": {
        "id": "NCpj5WaQywXz"
      }
    },
    {
      "cell_type": "code",
      "source": [
        "import re\n",
        "import string\n",
        "import nltk\n",
        "from nltk.corpus import stopwords\n",
        "from nltk.stem import WordNetLemmatizer\n",
        "\n",
        "# Download necessary NLTK resources (only required once)\n",
        "nltk.download(\"punkt\")\n",
        "nltk.download(\"wordnet\")\n",
        "nltk.download(\"stopwords\")\n",
        "\n",
        "# Define functions for text preprocessing\n",
        "def preprocess_text(text):\n",
        "    # Remove punctuation\n",
        "    text = re.sub(r\"[^\\w\\s]\", \"\", text)\n",
        "    # text = text.translate(str.maketrans('', '', string.punctuation))\n",
        "    return text\n",
        "\n",
        "def tokenize_and_remove_stopwords(text):\n",
        "    # Tokenize text\n",
        "    tokens = nltk.word_tokenize(text)\n",
        "    # Remove stopwords\n",
        "    stop_words = set(stopwords.words(\"english\"))\n",
        "    tokens = [token for token in tokens if token.lower() not in stop_words]\n",
        "    return tokens\n",
        "\n",
        "def lemmatize_words(tokens):\n",
        "    # Lemmatize words\n",
        "    lemmatizer = WordNetLemmatizer()\n",
        "    lemmatized_tokens = [lemmatizer.lemmatize(token) for token in tokens]\n",
        "    return lemmatized_tokens\n",
        "\n",
        "# Apply text preprocessing to the Review column in the DataFrame\n",
        "df[\"Processed_Review\"] = df[\"review\"].apply(preprocess_text)\n",
        "df[\"Tokenized_Review\"] = df[\"Processed_Review\"].apply(tokenize_and_remove_stopwords)\n",
        "df[\"Lemmatized_Review\"] = df[\"Tokenized_Review\"].apply(lemmatize_words)\n",
        "\n",
        "# Convert sentiment labels to numerical values\n",
        "df[\"sentiment\"] = df[\"sentiment\"].map({\"positive\": 1, \"negative\": 0})\n",
        "\n",
        "\n",
        "# Display the processed DataFrame\n",
        "print(df.head())\n"
      ],
      "metadata": {
        "colab": {
          "base_uri": "https://localhost:8080/"
        },
        "id": "xWC7D6-UIq7w",
        "outputId": "72b3b369-37b4-45d5-bcd7-61a27176d92c"
      },
      "execution_count": null,
      "outputs": [
        {
          "output_type": "stream",
          "name": "stderr",
          "text": [
            "[nltk_data] Downloading package punkt to /root/nltk_data...\n",
            "[nltk_data]   Package punkt is already up-to-date!\n",
            "[nltk_data] Downloading package wordnet to /root/nltk_data...\n",
            "[nltk_data]   Package wordnet is already up-to-date!\n",
            "[nltk_data] Downloading package stopwords to /root/nltk_data...\n",
            "[nltk_data]   Package stopwords is already up-to-date!\n"
          ]
        },
        {
          "output_type": "stream",
          "name": "stdout",
          "text": [
            "                                              review  sentiment  \\\n",
            "0  This movie just stunk. I know that some people...          0   \n",
            "1  The Man in the White Suit is one of those deli...          1   \n",
            "2  Why is impossible to write in french ? Very Ki...          0   \n",
            "3  I was excited to discover this late sixties co...          0   \n",
            "4  First of all, I must say that I love this film...          1   \n",
            "\n",
            "                                    Processed_Review  \\\n",
            "0  This movie just stunk I know that some people ...   \n",
            "1  The Man in the White Suit is one of those deli...   \n",
            "2  Why is impossible to write in french  Very Kit...   \n",
            "3  I was excited to discover this late sixties co...   \n",
            "4  First of all I must say that I love this filmb...   \n",
            "\n",
            "                                    Tokenized_Review  \\\n",
            "0  [movie, stunk, know, people, say, anybody, thi...   \n",
            "1  [Man, White, Suit, one, delightful, comedies, ...   \n",
            "2  [impossible, write, french, Kitch, journey, ce...   \n",
            "3  [excited, discover, late, sixties, comedy, sta...   \n",
            "4  [First, must, say, love, filmbr, br, first, fi...   \n",
            "\n",
            "                                   Lemmatized_Review  \n",
            "0  [movie, stunk, know, people, say, anybody, thi...  \n",
            "1  [Man, White, Suit, one, delightful, comedy, Ea...  \n",
            "2  [impossible, write, french, Kitch, journey, ce...  \n",
            "3  [excited, discover, late, sixty, comedy, stari...  \n",
            "4  [First, must, say, love, filmbr, br, first, fi...  \n"
          ]
        }
      ]
    },
    {
      "cell_type": "markdown",
      "source": [
        "# TF-IDF Vectorization\n",
        "TF-IDF vectorization is performed on lemmatized movie reviews. It creates numerical feature vectors (X) representing the text data. The sentiment labels (positive/negative) are retrieved and stored in y. The data is split into training and testing sets (50-50 ratio) for sentiment analysis."
      ],
      "metadata": {
        "id": "XMfvI8jDzjPu"
      }
    },
    {
      "cell_type": "code",
      "source": [
        "from sklearn.feature_extraction.text import TfidfVectorizer\n",
        "\n",
        "# Convert the lemmatized reviews to a list of strings\n",
        "documents = df[\"Lemmatized_Review\"].apply(\" \".join).tolist()\n",
        "\n",
        "# Create TF-IDF vectorizer\n",
        "vectorizer = TfidfVectorizer(max_features=5000)  # You can adjust the max_features parameter as needed\n",
        "X = vectorizer.fit_transform(documents)\n",
        "\n",
        "# Get the corresponding sentiment labels (positive/negative)\n",
        "y = df[\"sentiment\"].values\n",
        "\n",
        "# Split the data into training and testing sets\n",
        "from sklearn.model_selection import train_test_split\n",
        "\n",
        "X_train, X_test, y_train, y_test = train_test_split(X, y, test_size=0.5, random_state=42)\n"
      ],
      "metadata": {
        "id": "NNgEDU7SzLjH"
      },
      "execution_count": null,
      "outputs": []
    },
    {
      "cell_type": "markdown",
      "source": [
        "# Model Selection and Hyperparameter Tuning\n",
        "Hyperparameter tuning is performed using GridSearchCV for Random Forest and Gradient Boosting classifiers. It searches for the best combination of hyperparameters, such as the number of estimators and maximum depth for Random Forest, and the number of estimators and learning rate for Gradient Boosting. The models are evaluated using 3-fold cross-validation. The best hyperparameters for each classifier are displayed."
      ],
      "metadata": {
        "id": "sKtx4ngZz5FC"
      }
    },
    {
      "cell_type": "code",
      "source": [
        "from sklearn.ensemble import RandomForestClassifier, GradientBoostingClassifier\n",
        "from sklearn.model_selection import GridSearchCV\n",
        "\n",
        "# Choose classifiers\n",
        "random_forest_clf = RandomForestClassifier()\n",
        "gradient_boosting_clf = GradientBoostingClassifier()\n",
        "\n",
        "# Define parameter grids for each classifier\n",
        "random_forest_params = {\n",
        "    \"n_estimators\": [50, 100, 150],\n",
        "    \"max_depth\": [None, 10, 20],\n",
        "}\n",
        "\n",
        "gradient_boosting_params = {\n",
        "    \"n_estimators\": [50, 100, 150],\n",
        "    \"learning_rate\": [0.1, 0.05],\n",
        "}\n",
        "\n",
        "# Perform GridSearchCV for each classifier\n",
        "grid_search_rf = GridSearchCV(random_forest_clf, random_forest_params, cv=3)\n",
        "grid_search_gb = GridSearchCV(gradient_boosting_clf, gradient_boosting_params, cv=3)\n",
        "\n",
        "# Fit the models on the training data\n",
        "grid_search_rf.fit(X_train, y_train)\n",
        "grid_search_gb.fit(X_train, y_train)\n",
        "\n",
        "# Get the best parameter settings for each classifier\n",
        "best_rf_params = grid_search_rf.best_params_\n",
        "best_gb_params = grid_search_gb.best_params_\n",
        "\n",
        "# Display the best parameter settings\n",
        "print(\"Best Random Forest Parameters:\", best_rf_params)\n",
        "print(\"Best Gradient Boosting Parameters:\", best_gb_params)\n"
      ],
      "metadata": {
        "colab": {
          "base_uri": "https://localhost:8080/"
        },
        "id": "3kzfwNAczo6w",
        "outputId": "eb438721-a23c-4a00-9700-e56aee2fd72c"
      },
      "execution_count": null,
      "outputs": [
        {
          "output_type": "stream",
          "name": "stdout",
          "text": [
            "Best Random Forest Parameters: {'max_depth': None, 'n_estimators': 150}\n",
            "Best Gradient Boosting Parameters: {'learning_rate': 0.1, 'n_estimators': 150}\n"
          ]
        }
      ]
    },
    {
      "cell_type": "markdown",
      "source": [
        "# Model Evaluation"
      ],
      "metadata": {
        "id": "bZUxZmHg0M20"
      }
    },
    {
      "cell_type": "code",
      "source": [
        "from sklearn.metrics import accuracy_score, precision_score, recall_score, f1_score\n",
        "\n",
        "# Get the best classifiers with the best parameter settings\n",
        "best_rf_clf = grid_search_rf.best_estimator_\n",
        "best_gb_clf = grid_search_gb.best_estimator_\n",
        "\n",
        "# Make predictions on the test set\n",
        "y_pred_rf = best_rf_clf.predict(X_test)\n",
        "y_pred_gb = best_gb_clf.predict(X_test)\n",
        "\n",
        "\n",
        "# Evaluate the models\n",
        "rf_accuracy = accuracy_score(y_test, y_pred_rf)\n",
        "rf_precision = precision_score(y_test, y_pred_rf)\n",
        "rf_recall = recall_score(y_test, y_pred_rf)\n",
        "rf_f1 = f1_score(y_test, y_pred_rf)\n",
        "\n",
        "gb_accuracy = accuracy_score(y_test, y_pred_gb)\n",
        "gb_precision = precision_score(y_test, y_pred_gb)\n",
        "gb_recall = recall_score(y_test, y_pred_gb)\n",
        "gb_f1 = f1_score(y_test, y_pred_gb)\n",
        "\n",
        "# Display the evaluation metrics\n",
        "print(\"Random Forest Metrics:\")\n",
        "print(\"Accuracy:\", rf_accuracy)\n",
        "print(\"Precision:\", rf_precision)\n",
        "print(\"Recall:\", rf_recall)\n",
        "print(\"F1 Score:\", rf_f1)\n",
        "\n",
        "print(\"\\nGradient Boosting Metrics:\")\n",
        "print(\"Accuracy:\", gb_accuracy)\n",
        "print(\"Precision:\", gb_precision)\n",
        "print(\"Recall:\", gb_recall)\n",
        "print(\"F1 Score:\", gb_f1)\n"
      ],
      "metadata": {
        "colab": {
          "base_uri": "https://localhost:8080/"
        },
        "id": "sAX1cki80A7a",
        "outputId": "6d662016-e041-4c02-f2cb-88b8bd370679"
      },
      "execution_count": null,
      "outputs": [
        {
          "output_type": "stream",
          "name": "stdout",
          "text": [
            "Random Forest Metrics:\n",
            "Accuracy: 0.84704\n",
            "Precision: 0.839666506333173\n",
            "Recall: 0.8516832005204098\n",
            "F1 Score: 0.8456321653479735\n",
            "\n",
            "Gradient Boosting Metrics:\n",
            "Accuracy: 0.81944\n",
            "Precision: 0.7826023816439152\n",
            "Recall: 0.8764026671003415\n",
            "F1 Score: 0.8268507863444573\n"
          ]
        }
      ]
    },
    {
      "cell_type": "markdown",
      "source": [
        "# Report and Conclusion\n",
        "The Random Forest and Gradient Boosting classifiers are evaluated on the test set using accuracy, precision, recall, and F1-score. The best classifiers with optimal hyperparameter settings are obtained from GridSearchCV. The evaluation metrics for both models are then displayed."
      ],
      "metadata": {
        "id": "fw2o_9wo2U12"
      }
    },
    {
      "cell_type": "code",
      "source": [
        "\n",
        "# Report the best performing model\n",
        "best_model = \"Random Forest\" if rf_accuracy > gb_accuracy else \"Gradient Boosting\"\n",
        "print(\"The best performing model is:\", best_model)\n",
        "\n",
        "\n",
        "# Visualization: Confusion Matrix for Random Forest\n",
        "import matplotlib.pyplot as plt\n",
        "import seaborn as sns\n",
        "from sklearn.metrics import confusion_matrix\n",
        "\n",
        "# Generate the confusion matrix for the Random Forest model\n",
        "conf_matrix_rf = confusion_matrix(y_test, y_pred_rf)\n",
        "\n",
        "# Plot the confusion matrix\n",
        "plt.figure(figsize=(6, 4))\n",
        "sns.heatmap(conf_matrix_rf, annot=True, fmt=\"d\", cmap=\"Blues\", cbar=False)\n",
        "plt.xlabel(\"Predicted Labels\")\n",
        "plt.ylabel(\"True Labels\")\n",
        "plt.title(\"Confusion Matrix - Random Forest\")\n",
        "plt.show()\n",
        "\n",
        "\n",
        "\n"
      ],
      "metadata": {
        "colab": {
          "base_uri": "https://localhost:8080/",
          "height": 427
        },
        "id": "J1wFe1Kq2Ozl",
        "outputId": "4efb4ecf-5625-46c9-e605-6e74a8b5190e"
      },
      "execution_count": null,
      "outputs": [
        {
          "output_type": "stream",
          "name": "stdout",
          "text": [
            "The best performing model is: Random Forest\n"
          ]
        },
        {
          "output_type": "display_data",
          "data": {
            "text/plain": [
              "<Figure size 600x400 with 1 Axes>"
            ],
            "image/png": "[encoded data removed]"
          },
          "metadata": {}
        }
      ]
    },
    {
      "cell_type": "markdown",
      "source": [
        "# Conclusion\n",
        "\n",
        "The IMDB movie review sentiment classification project involved the analysis of 25,000 movie reviews.\n",
        "We preprocessed the text data by removing punctuation, tokenizing, removing stopwords, and lemmatizing the words.\n",
        "The TF-IDF vectorization was performed to convert the text data into numerical feature vectors.\n",
        "We experimented with two classifiers, Random Forest, and Gradient Boosting (or Xgboost).\n",
        "The classifiers were optimized using GridSearchCV to find the best hyperparameter settings.\n",
        "\n",
        "After evaluating the models on the testing dataset, we found that the \" Random Forest\" performed better with the following metrics:\n",
        "\n",
        "Accuracy: 0.84704\n",
        "\n",
        "Precision: 0.839666506333173\n",
        "\n",
        "Recall: 0.8516832005204098\n",
        "\n",
        "F1 Score: 0.8456321653479735\n",
        "\n",
        "The Random Forest model outperformed the Gradient Boosting model in terms of accuracy, precision, recall, and F1 score.\n",
        "\n",
        " # Visualization:\n",
        "The confusion matrix for the Random Forest model shows the distribution of true positive, true negative, false positive, and false negative predictions.\n",
        "\n",
        "# Additional Insights and Observations:\n",
        " - The performance of the models could be further improved by experimenting with different feature extraction techniques, such as word embeddings.\n",
        " - Tuning the hyperparameters with a larger grid or using more advanced optimization methods may yield better results.\n",
        " - The dataset size could be increased for more robust model training and evaluation.\n",
        " - The choice of classifiers and their hyperparameter settings heavily influences the model's performance.\n",
        "\n"
      ],
      "metadata": {
        "id": "Hnfe6GyEEN4a"
      }
    },
    {
      "cell_type": "markdown",
      "source": [
        "# Save the best model to a file\n",
        "The best model is saved (either Random Forest or Gradient Boosting) to a file named \"best_model1.pkl\" using the joblib library. The model that performed better during evaluation is selected and saved for future use."
      ],
      "metadata": {
        "id": "r3j77Wcb3NOG"
      }
    },
    {
      "cell_type": "code",
      "source": [
        "import joblib\n",
        "\n",
        "# Save the best model to a file\n",
        "if best_model == \"Random Forest\":\n",
        "    best_model_clf = best_rf_clf\n",
        "else:\n",
        "    best_model_clf = best_gb_clf\n",
        "\n",
        "# Save the model to a file\n",
        "joblib.dump(best_model_clf, \"best_model1.pkl\")"
      ],
      "metadata": {
        "colab": {
          "base_uri": "https://localhost:8080/"
        },
        "id": "Z26i2UM23Iv6",
        "outputId": "144a8390-8638-4117-ce78-46322b00e871"
      },
      "execution_count": null,
      "outputs": [
        {
          "output_type": "execute_result",
          "data": {
            "text/plain": [
              "['best_model1.pkl']"
            ]
          },
          "metadata": {},
          "execution_count": 40
        }
      ]
    },
    {
      "cell_type": "markdown",
      "source": [
        "# Get a review from user input and use the saved model to make predictions\n",
        "The best model is loaded from the saved file \"best_model1.pkl\" and enters a while loop to continuously ask the user for a movie review. The user can exit by typing 'exit'. Each input review is preprocessed, converted to a TF-IDF feature vector, and used to make a sentiment prediction using the loaded model. The predicted sentiment (positive/negative) is then displayed. The loop continues until the user decides to exit the program."
      ],
      "metadata": {
        "id": "e-ppTecd37QX"
      }
    },
    {
      "cell_type": "code",
      "source": [
        "import joblib\n",
        "\n",
        "# Load the saved model from the file\n",
        "loaded_model = joblib.load(\"best_model1.pkl\")\n",
        "\n",
        "# Function to preprocess user input review\n",
        "def preprocess_input(text):\n",
        "    processed_text = preprocess_text(text)\n",
        "    tokenized_text = tokenize_and_remove_stopwords(processed_text)\n",
        "    lemmatized_text = lemmatize_words(tokenized_text)\n",
        "    return \" \".join(lemmatized_text)\n",
        "\n",
        "# Get the review from user input in a while loop until the user exits\n",
        "while True:\n",
        "    user_input_review = input(\"Enter your movie review (or type 'exit' to quit): \")\n",
        "\n",
        "    if user_input_review.lower() == 'exit':\n",
        "        print(\"Exiting the program. Goodbye!\")\n",
        "        break\n",
        "\n",
        "    # Preprocess the user input review\n",
        "    processed_review = preprocess_input(user_input_review)\n",
        "\n",
        "    # Convert the preprocessed review to TF-IDF feature vector using the same vectorizer used during training\n",
        "    X_user_input = vectorizer.transform([processed_review])\n",
        "\n",
        "    # Make prediction using the loaded model\n",
        "    predicted_sentiment = loaded_model.predict(X_user_input)[0]\n",
        "\n",
        "    print(predicted_sentiment)\n",
        "\n",
        "    # Convert sentiment label to readable format\n",
        "    sentiment_label = \"Positive\" if predicted_sentiment == 1 else \"Negative\"\n",
        "\n",
        "    # Display the prediction\n",
        "    print(f\"Predicted Sentiment: {sentiment_label}\")\n"
      ],
      "metadata": {
        "colab": {
          "base_uri": "https://localhost:8080/"
        },
        "id": "yeFnw1fC3rP_",
        "outputId": "e5a08d2c-847e-4a56-f9f5-9d5b750e0a44"
      },
      "execution_count": null,
      "outputs": [
        {
          "output_type": "stream",
          "name": "stdout",
          "text": [
            "Enter your movie review (or type 'exit' to quit): I saw this film over Christmas, and what a great film it was! It tells the story of Custer (played by Errol Flynn) during and after his graduation from Westpoint. Although I've heard that the film isn't very historically accurate (Hollywood never is) I still enjoyed it as I knew little of the real events anyway.<br /><br />I thought Errol Flynn was brilliant as Custer and has since become my favourite actor! His acting alongside Olivia De Havilland was brilliant and the ending was fantastic! It brought me close to tears as he and Ned Sharp (Arthur Kennedy) rode to their deaths on little big horn.<br /><br />I had always known that Errol Flynn was a brilliant actor as he was my dads favourite actor, and I grew up watching his films as a child. But it wasn't until I watched this film that I realised how great he actually was.<br /><br />I'll give this film 10 out of 10!!\n",
            "1\n",
            "Predicted Sentiment: Positive\n",
            "Enter your movie review (or type 'exit' to quit): \"Tokyo Eyes\" tells of a 17 year old Japanese girl who falls in like with a man being hunted by her big bro who is a cop. This lame flick is about 50% filler and 50% talk, talk, and more talk. You'll get to see the less than stellar cast of three as they talk on the bus, talk and play video games, talk and get a haircut, talk and walk and walk and talk, talk on cell phones, hang out and talk, etc. as you read subtitles waiting for something to happen. The thin wisp of a story is not sufficient to support a film with low end production value, a meager cast, and no action, no romance, no sex or nudity, no heavy drama...just incessant yadayadayada'ing. (C-)\n",
            "0\n",
            "Predicted Sentiment: Negative\n",
            "Enter your movie review (or type 'exit' to quit): Not even the Beatles could write songs everyone liked, and although Walter Hill is no mop-top he's second to none when it comes to thought provoking action movies. The nineties came and social platforms were changing in music and film, the emergence of the Rapper turned movie star was in full swing, the acting took a back seat to each man's overpowering regional accent and transparent acting. This was one of the many ice-t movies i saw as a kid and loved, only to watch them later and cringe. Bill Paxton and William Sadler are firemen with basic lives until a burning building tenant about to go up in flames hands over a map with gold implications. I hand it to Walter for quickly and neatly setting up the main characters and location. But i fault everyone involved for turning out Lame-o performances. Ice-t and cube must have been red hot at this time, and while I've enjoyed both their careers as rappers, in my opinion they fell flat in this movie. It's about ninety minutes of one guy ridiculously turning his back on the other guy to the point you find yourself locked in multiple states of disbelief. Now this is a movie, its not a documentary so i wont waste my time recounting all the stupid plot twists in this movie, but there were many, and they led nowhere. I got the feeling watching this that everyone on set was sord of confused and just playing things off the cuff. There are two things i still enjoy about it, one involves a scene with a needle and the other is Sadler's huge 45 pistol. Bottom line this movie is like domino's pizza. Yeah ill eat it if I'm hungry and i don't feel like cooking, But I'm well aware it tastes like crap. 3 stars, meh.\n",
            "0\n",
            "Predicted Sentiment: Negative\n",
            "Enter your movie review (or type 'exit' to quit): I was fortunate to attend the London premier of this film. While I am not at all a fan of British drama, I did find myself deeply moved by the characters and the BAD CHOICES they made. I was in tears by the end of the film. Every scene was mesmerizing. The attention to detail and the excellent acting was quite impressive.<br /><br />I would have to agree with some of the other comments here which question why all these women were throwing themselves at such a despicable character.<br /><br />*******SPOLIER ALERT******** I was also hoping that Dylan would have been killed by William when he had the chance! ****END SPOILER*****<br /><br />Keira Knightley did a great job and radiate beauty and innocence from the screen, but it was Sienna Miller's performance that was truly Oscar worthy.<br /><br />I am sure this production will be nominated for other awards.\n",
            "1\n",
            "Predicted Sentiment: Positive\n",
            "Enter your movie review (or type 'exit' to quit): exit\n",
            "Exiting the program. Goodbye!\n"
          ]
        }
      ]
    },
    {
      "cell_type": "code",
      "source": [],
      "metadata": {
        "id": "1YHuadfc4vxd"
      },
      "execution_count": null,
      "outputs": []
    }
  ]
}